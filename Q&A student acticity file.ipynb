{
 "cells": [
  {
   "cell_type": "markdown",
   "metadata": {
    "id": "4z_Z-K1tlrS7"
   },
   "source": [
    "## 1. Complete the following code to find the area of an equilateral triangle. Output should be as displayed"
   ]
  },
  {
   "cell_type": "code",
   "execution_count": 1,
   "metadata": {
    "id": "rP2qFD_SlrS_"
   },
   "outputs": [
    {
     "name": "stdout",
     "output_type": "stream",
     "text": [
      "Enter the side of the equilateral triangle: 5\n",
      "Area is: 10.83\n"
     ]
    }
   ],
   "source": [
    "import math\n",
    "side = float(input(\"Enter the side of the equilateral triangle: \"))\n",
    "area = ((math.sqrt(3))/4)*pow(side,2)\n",
    "print(\"Area is:\",round(area,2))"
   ]
  },
  {
   "cell_type": "markdown",
   "metadata": {
    "id": "TjVKjIfclrTB"
   },
   "source": [
    "## 2. Write a program to count the number of each characters in a string"
   ]
  },
  {
   "cell_type": "code",
   "execution_count": 2,
   "metadata": {
    "id": "JY5seVUQlrTC"
   },
   "outputs": [
    {
     "name": "stdout",
     "output_type": "stream",
     "text": [
      "Enter the String:Write a program to count the number of each characters in a string\n",
      "{'W': 1, 'r': 7, 'i': 3, 't': 6, 'e': 5, ' ': 12, 'a': 6, 'p': 1, 'o': 4, 'g': 2, 'm': 2, 'c': 4, 'u': 2, 'n': 4, 'h': 3, 'b': 1, 'f': 1, 's': 2}\n"
     ]
    }
   ],
   "source": [
    "line = input(\"Enter the String:\")\n",
    "#line = line.strip()\n",
    "char_count = dict()\n",
    "for char in line:\n",
    "    char_count[char] = char_count.get(char,0)+1\n",
    "print(char_count)"
   ]
  },
  {
   "cell_type": "markdown",
   "metadata": {
    "id": "l3LCULfklrTD"
   },
   "source": [
    "## Write a program to find the area and perimeter of a rectangle using functions"
   ]
  },
  {
   "cell_type": "code",
   "execution_count": 3,
   "metadata": {
    "id": "8haQD8edlrTD"
   },
   "outputs": [
    {
     "name": "stdout",
     "output_type": "stream",
     "text": [
      "ENTER THE LENGTH OF RECTANGLE6\n",
      "ENTER THE BREADTH OF RECTANGLE4\n",
      "The area of a Rectangle is : 24\n",
      "The perimeter of a Rectangle is : 20\n"
     ]
    }
   ],
   "source": [
    "a=int(input(\"ENTER THE LENGTH OF RECTANGLE\"))\n",
    "b=int(input(\"ENTER THE BREADTH OF RECTANGLE\"))\n",
    "def rectangle_f(a,b):\n",
    "    area= a * b\n",
    "    perimeter= (2*(a+b))\n",
    "    print(\"The area of a Rectangle is :\", area)\n",
    "    print(\"The perimeter of a Rectangle is :\", perimeter)\n",
    "rectangle_f(a,b)"
   ]
  },
  {
   "cell_type": "markdown",
   "metadata": {
    "id": "JHK4ZdsflrTE"
   },
   "source": [
    "## 4. Write a program to print the fibonacci series till a specified number"
   ]
  },
  {
   "cell_type": "code",
   "execution_count": 4,
   "metadata": {
    "id": "LyBEj-4SlrTE"
   },
   "outputs": [
    {
     "name": "stdout",
     "output_type": "stream",
     "text": [
      "Enter the number10\n",
      "0\n",
      "1\n",
      "1\n",
      "2\n",
      "3\n",
      "5\n",
      "8\n",
      "13\n",
      "21\n",
      "34\n"
     ]
    }
   ],
   "source": [
    "num=int(input(\"Enter the number\"))\n",
    "#Initialization\n",
    "first_num = 0\n",
    "second_num= 1\n",
    "i=0        \n",
    "while(i<num):\n",
    "    if(i<=1):\n",
    "          p=i\n",
    "    else:\n",
    "          p=first_num+second_num\n",
    "          first_num=second_num\n",
    "          second_num=p\n",
    "    print(p)\n",
    "    i=i+1"
   ]
  },
  {
   "cell_type": "markdown",
   "metadata": {
    "id": "u4uBUcQKlrTE"
   },
   "source": [
    "## 5. Complete the following code to find the minimum of 3 number using cinditional statements. Output should be as displayed"
   ]
  },
  {
   "cell_type": "code",
   "execution_count": 5,
   "metadata": {
    "id": "XdZwrZjIlrTF"
   },
   "outputs": [
    {
     "name": "stdout",
     "output_type": "stream",
     "text": [
      "Enter three numbers followed by  : 2 3 4\n",
      "First number : 2.0\n",
      "Second number : 3.0\n",
      "Third number : 4.0\n",
      "2.0  is smallest\n"
     ]
    }
   ],
   "source": [
    "a,b,c = map(float,input(\"Enter three numbers followed by  : \").split())\n",
    "\n",
    "print(\"First number :\",a)\n",
    "print(\"Second number :\",b)\n",
    "print(\"Third number :\",c)\n",
    "if a==b and b==c:\n",
    "    print(\"Entered numbers are equal!!!\")\n",
    "elif a<b and a<c:\n",
    "    print(a,\" is smallest\")\n",
    "elif b<a and b<c:\n",
    "    print(b,\" is smallest\")\n",
    "else:\n",
    "    print(c,\" is smallest\")"
   ]
  },
  {
   "cell_type": "markdown",
   "metadata": {
    "id": "aR_CnToWlrTG"
   },
   "source": [
    "## 6. Write a program to print star pyramind. The number of rows should be taken as input from the user"
   ]
  },
  {
   "cell_type": "code",
   "execution_count": 6,
   "metadata": {
    "id": "M37A-buplrTG"
   },
   "outputs": [
    {
     "name": "stdout",
     "output_type": "stream",
     "text": [
      "Enter the number of rows:8\n",
      "               * \n",
      "              * * \n",
      "             * * * \n",
      "            * * * * \n",
      "           * * * * * \n",
      "          * * * * * * \n",
      "         * * * * * * * \n",
      "        * * * * * * * * \n"
     ]
    }
   ],
   "source": [
    "rows = int(input(\"Enter the number of rows:\"))  \n",
    "k = 2 * rows - 1\n",
    "for i in range(0, rows):  \n",
    "    for j in range(0, k):  \n",
    "        print(end=\" \")  \n",
    "    k = k - 1    \n",
    "    for j in range(0, i + 1):  \n",
    "        print(\"* \", end=\"\")   \n",
    "    print(\"\")    \n",
    "    "
   ]
  },
  {
   "cell_type": "markdown",
   "metadata": {
    "id": "tlY6aFWBlrTH"
   },
   "source": [
    "## 7. Complete the following code to convert hour into seconds. Output should be as displayed"
   ]
  },
  {
   "cell_type": "code",
   "execution_count": 7,
   "metadata": {
    "id": "YOZQFk7FlrTH"
   },
   "outputs": [
    {
     "name": "stdout",
     "output_type": "stream",
     "text": [
      "Enter time in hours:6\n",
      "6  Hour is equal to 21600  Seconds\n"
     ]
    }
   ],
   "source": [
    "def to_seconds(t):\n",
    "    t=t*3600\n",
    "    return t\n",
    "\n",
    "time_in_hours = int(input(\"Enter time in hours:\"))\n",
    "\n",
    "print(time_in_hours ,\" Hour is equal to\" ,to_seconds(time_in_hours) ,\" Seconds\")"
   ]
  },
  {
   "cell_type": "markdown",
   "metadata": {
    "id": "CnYorNiLlrTI"
   },
   "source": [
    "## 8. Write a program to print multiplication table as below"
   ]
  },
  {
   "cell_type": "code",
   "execution_count": 8,
   "metadata": {
    "id": "dPQqDPuDlrTI"
   },
   "outputs": [
    {
     "name": "stdout",
     "output_type": "stream",
     "text": [
      "enter an integer to print its multiplication table \n",
      "10\n",
      "enter the limit \n",
      "10\n",
      "\n",
      "The multiplication table of 10 upto 10 \n",
      "\n",
      "1 * 10 = 10\n",
      "2 * 10 = 20\n",
      "3 * 10 = 30\n",
      "4 * 10 = 40\n",
      "5 * 10 = 50\n",
      "6 * 10 = 60\n",
      "7 * 10 = 70\n",
      "8 * 10 = 80\n",
      "9 * 10 = 90\n",
      "10 * 10 = 100\n"
     ]
    }
   ],
   "source": [
    "def multiply(a,b):\n",
    "    return (a*b)\n",
    "\n",
    "n=int(input(\"enter an integer to print its multiplication table \\n\"))\n",
    "l=int(input(\"enter the limit \\n\"))\n",
    "print(\"\\n\"\"The multiplication table of\",n,\"upto\",l, \"\\n\")\n",
    "i=0\n",
    "for i in range(1,l+1):\n",
    "    print(i,\"*\",n,\"=\" ,multiply(i,n))"
   ]
  },
  {
   "cell_type": "markdown",
   "metadata": {
    "id": "Fiaez8iblrTI"
   },
   "source": [
    "## 9. Write a program to take your 5 favorite food as list and print each as 'I like Biriyani'"
   ]
  },
  {
   "cell_type": "code",
   "execution_count": null,
   "metadata": {
    "id": "39W1zFX7lrTJ"
   },
   "outputs": [],
   "source": [
    "from colorama import Fore, Back, Style\n",
    "food_list=list(input(\"Enter your 5 favourite food items with spaces in between: \").split())\n",
    "for i in range(0,5):\n",
    "    print(Style.BRIGHT + Fore.MAGENTA + \"I like\",food_list[i])"
   ]
  },
  {
   "cell_type": "markdown",
   "metadata": {
    "id": "3vlcDNNEP7d_"
   },
   "source": [
    "## 10. Find error(s) in the following code(if any) and rewrite code.\n",
    "\n"
   ]
  },
  {
   "cell_type": "code",
   "execution_count": null,
   "metadata": {
    "id": "coREkcY3P9sG"
   },
   "outputs": [],
   "source": [
    "x= int(input('Enter value of x:'))\n",
    "for y in range (0,10):\n",
    "    if x==y:\n",
    "            print(\"They are equal\")\n",
    "    else:\n",
    "        print(\"They are unequal\")"
   ]
  }
 ],
 "metadata": {
  "colab": {
   "collapsed_sections": [],
   "name": "Q&A activity student file.ipynb",
   "provenance": []
  },
  "kernelspec": {
   "display_name": "Python 3",
   "language": "python",
   "name": "python3"
  },
  "language_info": {
   "codemirror_mode": {
    "name": "ipython",
    "version": 3
   },
   "file_extension": ".py",
   "mimetype": "text/x-python",
   "name": "python",
   "nbconvert_exporter": "python",
   "pygments_lexer": "ipython3",
   "version": "3.8.3"
  }
 },
 "nbformat": 4,
 "nbformat_minor": 1
}
